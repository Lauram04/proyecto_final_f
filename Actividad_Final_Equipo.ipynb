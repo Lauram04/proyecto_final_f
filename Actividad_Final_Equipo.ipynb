{
  "nbformat": 4,
  "nbformat_minor": 0,
  "metadata": {
    "colab": {
      "name": "Actividad_Final_Equipo.ipynb",
      "provenance": [],
      "collapsed_sections": [],
      "include_colab_link": true
    },
    "kernelspec": {
      "display_name": "Python 3",
      "language": "python",
      "name": "python3"
    },
    "language_info": {
      "codemirror_mode": {
        "name": "ipython",
        "version": 3
      },
      "file_extension": ".py",
      "mimetype": "text/x-python",
      "name": "python",
      "nbconvert_exporter": "python",
      "pygments_lexer": "ipython3",
      "version": "3.8.5"
    }
  },
  "cells": [
    {
      "cell_type": "markdown",
      "metadata": {
        "id": "view-in-github",
        "colab_type": "text"
      },
      "source": [
        "<a href=\"https://colab.research.google.com/github/Lauram04/proyecto_final_f/blob/main/Actividad_Final_Equipo.ipynb\" target=\"_parent\"><img src=\"https://colab.research.google.com/assets/colab-badge.svg\" alt=\"Open In Colab\"/></a>"
      ]
    },
    {
      "cell_type": "code",
      "metadata": {
        "id": "xxR2lVe6qlEu"
      },
      "source": [
        ""
      ],
      "execution_count": null,
      "outputs": []
    },
    {
      "cell_type": "markdown",
      "metadata": {
        "id": "0s-50wd6BfP5"
      },
      "source": [
        "**Matemáticas para Ciencia de Datos**\n",
        "**Dr. Juliho Castillo Colmenares**"
      ]
    },
    {
      "cell_type": "markdown",
      "metadata": {
        "id": "nJkL4StTKSW0"
      },
      "source": [
        "**Análisis de Costos Variables y su Relación con el Volumen de Producción en una Empresa de Manufactura**"
      ]
    },
    {
      "cell_type": "markdown",
      "metadata": {
        "id": "eHtchDPMa4xD"
      },
      "source": [
        "**Equipo F**\n",
        "\n",
        "\n",
        "\n",
        "##### Jesús Javier Gálvez Cruz\n",
        "##### Laura Alicia Medrano Gaytán\n",
        "##### Erika Paloma Sánchez Fema\n",
        "\n",
        "\n",
        "\n",
        "\n"
      ]
    },
    {
      "cell_type": "markdown",
      "metadata": {
        "id": "gW-qwRHfGwGq"
      },
      "source": [
        "**Resumen**\n"
      ]
    },
    {
      "cell_type": "markdown",
      "metadata": {
        "id": "VIz_FHC_GwGs"
      },
      "source": [
        "\n",
        "En este proyecto nos enfocaremos en el análisis de los costos variables de una empresa de la industria maquiladora. \n",
        "\n",
        "Los costos variables de una empresa son aquellos que están asociados con la cantidad de bienes o servicios que produce, los costos variables de una empresa aumentan y disminuyen con su volumen de producción.\n",
        "\n",
        "Uno de los principales problemas a los que se enfrenta el área financiera y operativa es que no se cuenta con un modelo que ayude a identificar la relación entre los costos variables de la empresa y su volumen de producción, por lo que trabajaremos en aquellos costos relacionados a consumo de materiales, químicos y mantenimiento. Con la ayuda de modelos matemáticos, tales como métodos lineales, discutiremos\n",
        "la relación entre éstos y determinaremos si este método es eficiente para predicción de costos, teniendo como\n",
        "datos de entrada costos y volumen de producción."
      ]
    },
    {
      "cell_type": "markdown",
      "metadata": {
        "id": "VyB5DANNGwGt"
      },
      "source": [
        "**Objetivo General**\n",
        "- Crear un modelo que indique la relación entre costos y producción.\n",
        "- Predecir el consumo de costos a futuro de acuerdo a los volúmenes de producción planeados.\n",
        "\n",
        "**Objetivos específicos**\n",
        "\n",
        "- Medir y modelar los datos recolectados utilizando herramientas para el lenguaje Python.\n",
        "- Determinar si existe relación entre los costos variables y la producción utilizando modelos matemáticos.\n",
        "- Identificar patrones de comportamiento de los gastos variables de acuerdo al volumen de producción.\n",
        "- Determinar si es adecuado utilizar un modelo de regresión lineal.\n",
        "- Realizar predicciones de costos futuros."
      ]
    },
    {
      "cell_type": "markdown",
      "metadata": {
        "id": "dtbvgrvFGwGt"
      },
      "source": [
        "**Datos**"
      ]
    },
    {
      "cell_type": "markdown",
      "metadata": {
        "id": "oTcAutr8GwGt"
      },
      "source": [
        "| Variable || Unidad de Medida || Tipo |\n",
        "| --- || --- || --- |\n",
        "| Product || N/A | Categórica |\n",
        "| Mes || N/A | Cuantitativa |\n",
        "| Volumen Producción || Unidades | Cuantitativa |\n",
        "| Volumen Producción \\$ || USD | Cuantitativa |\n",
        "| Mantenimiento \\$  || USD | Cuantitativa |\n",
        "| Material \\$  || USD | Cuantitativa |\n",
        "| Químicos \\$  || USD | Cuantitativa |\n"
      ]
    },
    {
      "cell_type": "markdown",
      "metadata": {
        "id": "2nqdPvWBGwGu"
      },
      "source": [
        "**Desarrollo**"
      ]
    },
    {
      "cell_type": "markdown",
      "metadata": {
        "id": "2KuLLkwFMxaN"
      },
      "source": [
        "Importamos las librerías a utilizar"
      ]
    },
    {
      "cell_type": "code",
      "metadata": {
        "id": "WbDRcyrTWUue"
      },
      "source": [
        "import matplotlib.pyplot as plt\n",
        "import math\n",
        "import numpy as np\n",
        "import pandas as pd\n",
        "import pprint\n",
        "from sklearn.linear_model import LinearRegression \n",
        "from sklearn.preprocessing import PolynomialFeatures\n",
        "from sklearn.metrics import mean_squared_error as mse, r2_score\n",
        "from numpy.linalg import inv\n"
      ],
      "execution_count": 1,
      "outputs": []
    },
    {
      "cell_type": "markdown",
      "metadata": {
        "id": "VSNKoxyuGwGu"
      },
      "source": [
        "**Volumen de producción y Costos variables por mes 2020 - 2021**\n",
        "\n",
        "Lectura del set de datos a utilizar, tomaremos los últimos 12 meses "
      ]
    },
    {
      "cell_type": "code",
      "metadata": {
        "colab": {
          "base_uri": "https://localhost:8080/",
          "height": 382
        },
        "id": "Arr_ck4aWUug",
        "outputId": "0e97dedb-5935-4d0c-ddac-6d652bd20c5b"
      },
      "source": [
        "costos = pd.read_excel('data_set_n.xlsx', sheet_name = 'data_historica' )\n",
        "costos = costos.loc[:11]\n",
        "costos"
      ],
      "execution_count": 2,
      "outputs": [
        {
          "output_type": "execute_result",
          "data": {
            "text/html": [
              "<div>\n",
              "<style scoped>\n",
              "    .dataframe tbody tr th:only-of-type {\n",
              "        vertical-align: middle;\n",
              "    }\n",
              "\n",
              "    .dataframe tbody tr th {\n",
              "        vertical-align: top;\n",
              "    }\n",
              "\n",
              "    .dataframe thead th {\n",
              "        text-align: right;\n",
              "    }\n",
              "</style>\n",
              "<table border=\"1\" class=\"dataframe\">\n",
              "  <thead>\n",
              "    <tr style=\"text-align: right;\">\n",
              "      <th></th>\n",
              "      <th>Producto</th>\n",
              "      <th>Mes</th>\n",
              "      <th>Volumen Produccion</th>\n",
              "      <th>Volumen Produccion $</th>\n",
              "      <th>Seguridad $</th>\n",
              "      <th>Quimicos $</th>\n",
              "      <th>Material $</th>\n",
              "    </tr>\n",
              "  </thead>\n",
              "  <tbody>\n",
              "    <tr>\n",
              "      <th>0</th>\n",
              "      <td>A</td>\n",
              "      <td>2020-07-01</td>\n",
              "      <td>2904</td>\n",
              "      <td>459988.586244</td>\n",
              "      <td>177.289200</td>\n",
              "      <td>342.231508</td>\n",
              "      <td>876.479472</td>\n",
              "    </tr>\n",
              "    <tr>\n",
              "      <th>1</th>\n",
              "      <td>A</td>\n",
              "      <td>2020-08-01</td>\n",
              "      <td>2705</td>\n",
              "      <td>297350.970840</td>\n",
              "      <td>90.151776</td>\n",
              "      <td>221.229122</td>\n",
              "      <td>294.818436</td>\n",
              "    </tr>\n",
              "    <tr>\n",
              "      <th>2</th>\n",
              "      <td>A</td>\n",
              "      <td>2020-09-01</td>\n",
              "      <td>3535</td>\n",
              "      <td>516788.365104</td>\n",
              "      <td>158.750064</td>\n",
              "      <td>384.634800</td>\n",
              "      <td>810.703872</td>\n",
              "    </tr>\n",
              "    <tr>\n",
              "      <th>3</th>\n",
              "      <td>A</td>\n",
              "      <td>2020-10-01</td>\n",
              "      <td>3192</td>\n",
              "      <td>401008.703436</td>\n",
              "      <td>122.355684</td>\n",
              "      <td>298.350475</td>\n",
              "      <td>350.178840</td>\n",
              "    </tr>\n",
              "    <tr>\n",
              "      <th>4</th>\n",
              "      <td>A</td>\n",
              "      <td>2020-11-01</td>\n",
              "      <td>3213</td>\n",
              "      <td>521199.015480</td>\n",
              "      <td>181.218312</td>\n",
              "      <td>768.834000</td>\n",
              "      <td>806.034240</td>\n",
              "    </tr>\n",
              "    <tr>\n",
              "      <th>5</th>\n",
              "      <td>A</td>\n",
              "      <td>2020-12-01</td>\n",
              "      <td>2892</td>\n",
              "      <td>398773.879416</td>\n",
              "      <td>130.558032</td>\n",
              "      <td>576.734400</td>\n",
              "      <td>1304.826732</td>\n",
              "    </tr>\n",
              "    <tr>\n",
              "      <th>6</th>\n",
              "      <td>A</td>\n",
              "      <td>2021-01-01</td>\n",
              "      <td>3454</td>\n",
              "      <td>438016.765428</td>\n",
              "      <td>121.562892</td>\n",
              "      <td>384.634800</td>\n",
              "      <td>133.794540</td>\n",
              "    </tr>\n",
              "    <tr>\n",
              "      <th>7</th>\n",
              "      <td>A</td>\n",
              "      <td>2021-02-01</td>\n",
              "      <td>3808</td>\n",
              "      <td>412804.982304</td>\n",
              "      <td>128.506356</td>\n",
              "      <td>307.126907</td>\n",
              "      <td>212.189472</td>\n",
              "    </tr>\n",
              "    <tr>\n",
              "      <th>8</th>\n",
              "      <td>A</td>\n",
              "      <td>2021-03-01</td>\n",
              "      <td>3489</td>\n",
              "      <td>369779.663880</td>\n",
              "      <td>77.763312</td>\n",
              "      <td>372.873600</td>\n",
              "      <td>103.938516</td>\n",
              "    </tr>\n",
              "    <tr>\n",
              "      <th>9</th>\n",
              "      <td>A</td>\n",
              "      <td>2021-04-01</td>\n",
              "      <td>2228</td>\n",
              "      <td>307747.976184</td>\n",
              "      <td>45.968868</td>\n",
              "      <td>228.964494</td>\n",
              "      <td>29.660004</td>\n",
              "    </tr>\n",
              "    <tr>\n",
              "      <th>10</th>\n",
              "      <td>A</td>\n",
              "      <td>2021-05-01</td>\n",
              "      <td>2652</td>\n",
              "      <td>313945.880292</td>\n",
              "      <td>93.048516</td>\n",
              "      <td>233.575735</td>\n",
              "      <td>127.360728</td>\n",
              "    </tr>\n",
              "  </tbody>\n",
              "</table>\n",
              "</div>"
            ],
            "text/plain": [
              "   Producto        Mes  ...  Quimicos $   Material $\n",
              "0         A 2020-07-01  ...  342.231508   876.479472\n",
              "1         A 2020-08-01  ...  221.229122   294.818436\n",
              "2         A 2020-09-01  ...  384.634800   810.703872\n",
              "3         A 2020-10-01  ...  298.350475   350.178840\n",
              "4         A 2020-11-01  ...  768.834000   806.034240\n",
              "5         A 2020-12-01  ...  576.734400  1304.826732\n",
              "6         A 2021-01-01  ...  384.634800   133.794540\n",
              "7         A 2021-02-01  ...  307.126907   212.189472\n",
              "8         A 2021-03-01  ...  372.873600   103.938516\n",
              "9         A 2021-04-01  ...  228.964494    29.660004\n",
              "10        A 2021-05-01  ...  233.575735   127.360728\n",
              "\n",
              "[11 rows x 7 columns]"
            ]
          },
          "metadata": {
            "tags": []
          },
          "execution_count": 2
        }
      ]
    },
    {
      "cell_type": "code",
      "metadata": {
        "colab": {
          "base_uri": "https://localhost:8080/",
          "height": 291
        },
        "id": "e_O3d6IxP3qP",
        "outputId": "40e46ccb-d6e6-4a9b-eb95-a69b09d41bd0"
      },
      "source": [
        "costos.describe()"
      ],
      "execution_count": 3,
      "outputs": [
        {
          "output_type": "execute_result",
          "data": {
            "text/html": [
              "<div>\n",
              "<style scoped>\n",
              "    .dataframe tbody tr th:only-of-type {\n",
              "        vertical-align: middle;\n",
              "    }\n",
              "\n",
              "    .dataframe tbody tr th {\n",
              "        vertical-align: top;\n",
              "    }\n",
              "\n",
              "    .dataframe thead th {\n",
              "        text-align: right;\n",
              "    }\n",
              "</style>\n",
              "<table border=\"1\" class=\"dataframe\">\n",
              "  <thead>\n",
              "    <tr style=\"text-align: right;\">\n",
              "      <th></th>\n",
              "      <th>Volumen Produccion</th>\n",
              "      <th>Volumen Produccion $</th>\n",
              "      <th>Seguridad $</th>\n",
              "      <th>Quimicos $</th>\n",
              "      <th>Material $</th>\n",
              "    </tr>\n",
              "  </thead>\n",
              "  <tbody>\n",
              "    <tr>\n",
              "      <th>count</th>\n",
              "      <td>11.000000</td>\n",
              "      <td>11.000000</td>\n",
              "      <td>11.000000</td>\n",
              "      <td>11.000000</td>\n",
              "      <td>11.000000</td>\n",
              "    </tr>\n",
              "    <tr>\n",
              "      <th>mean</th>\n",
              "      <td>3097.454545</td>\n",
              "      <td>403400.435328</td>\n",
              "      <td>120.652092</td>\n",
              "      <td>374.471804</td>\n",
              "      <td>459.089532</td>\n",
              "    </tr>\n",
              "    <tr>\n",
              "      <th>std</th>\n",
              "      <td>467.662349</td>\n",
              "      <td>77960.094722</td>\n",
              "      <td>41.952701</td>\n",
              "      <td>165.081027</td>\n",
              "      <td>419.487546</td>\n",
              "    </tr>\n",
              "    <tr>\n",
              "      <th>min</th>\n",
              "      <td>2228.000000</td>\n",
              "      <td>297350.970840</td>\n",
              "      <td>45.968868</td>\n",
              "      <td>221.229122</td>\n",
              "      <td>29.660004</td>\n",
              "    </tr>\n",
              "    <tr>\n",
              "      <th>25%</th>\n",
              "      <td>2798.500000</td>\n",
              "      <td>341862.772086</td>\n",
              "      <td>91.600146</td>\n",
              "      <td>265.963105</td>\n",
              "      <td>130.577634</td>\n",
              "    </tr>\n",
              "    <tr>\n",
              "      <th>50%</th>\n",
              "      <td>3192.000000</td>\n",
              "      <td>401008.703436</td>\n",
              "      <td>122.355684</td>\n",
              "      <td>342.231508</td>\n",
              "      <td>294.818436</td>\n",
              "    </tr>\n",
              "    <tr>\n",
              "      <th>75%</th>\n",
              "      <td>3471.500000</td>\n",
              "      <td>449002.675836</td>\n",
              "      <td>144.654048</td>\n",
              "      <td>384.634800</td>\n",
              "      <td>808.369056</td>\n",
              "    </tr>\n",
              "    <tr>\n",
              "      <th>max</th>\n",
              "      <td>3808.000000</td>\n",
              "      <td>521199.015480</td>\n",
              "      <td>181.218312</td>\n",
              "      <td>768.834000</td>\n",
              "      <td>1304.826732</td>\n",
              "    </tr>\n",
              "  </tbody>\n",
              "</table>\n",
              "</div>"
            ],
            "text/plain": [
              "       Volumen Produccion  Volumen Produccion $  ...  Quimicos $   Material $\n",
              "count           11.000000             11.000000  ...   11.000000    11.000000\n",
              "mean          3097.454545         403400.435328  ...  374.471804   459.089532\n",
              "std            467.662349          77960.094722  ...  165.081027   419.487546\n",
              "min           2228.000000         297350.970840  ...  221.229122    29.660004\n",
              "25%           2798.500000         341862.772086  ...  265.963105   130.577634\n",
              "50%           3192.000000         401008.703436  ...  342.231508   294.818436\n",
              "75%           3471.500000         449002.675836  ...  384.634800   808.369056\n",
              "max           3808.000000         521199.015480  ...  768.834000  1304.826732\n",
              "\n",
              "[8 rows x 5 columns]"
            ]
          },
          "metadata": {
            "tags": []
          },
          "execution_count": 3
        }
      ]
    },
    {
      "cell_type": "code",
      "metadata": {
        "colab": {
          "base_uri": "https://localhost:8080/",
          "height": 312
        },
        "id": "rT6HBFWSQMfl",
        "outputId": "589f3b88-3482-4595-a356-4b1accdd754b"
      },
      "source": [
        "\n",
        "plt.title('Volumen Producción \\$ a través del tiempo')\n",
        "plt.ylabel('Volumen Producción \\$ ')\n",
        "plt.xlabel('Mes')\n",
        "plt.plot(costos['Mes'],costos['Volumen Produccion $'] )"
      ],
      "execution_count": 4,
      "outputs": [
        {
          "output_type": "execute_result",
          "data": {
            "text/plain": [
              "[<matplotlib.lines.Line2D at 0x7f53b4e8cfd0>]"
            ]
          },
          "metadata": {
            "tags": []
          },
          "execution_count": 4
        },
        {
          "output_type": "display_data",
          "data": {
            "image/png": "[encoded data removed]",
            "text/plain": [
              "<Figure size 432x288 with 1 Axes>"
            ]
          },
          "metadata": {
            "tags": [],
            "needs_background": "light"
          }
        }
      ]
    },
    {
      "cell_type": "code",
      "metadata": {
        "colab": {
          "base_uri": "https://localhost:8080/",
          "height": 312
        },
        "id": "x9k22bUERd5v",
        "outputId": "476fd32b-c5e0-4ac5-eb7b-05ba0c097cb5"
      },
      "source": [
        "plt.title('Volumen Producción (Unidades) a través del tiempo')\n",
        "plt.ylabel('Volumen Producción')\n",
        "plt.xlabel('Mes')\n",
        "plt.plot(costos['Mes'],costos['Volumen Produccion'] )"
      ],
      "execution_count": 5,
      "outputs": [
        {
          "output_type": "execute_result",
          "data": {
            "text/plain": [
              "[<matplotlib.lines.Line2D at 0x7f53b4e8fed0>]"
            ]
          },
          "metadata": {
            "tags": []
          },
          "execution_count": 5
        },
        {
          "output_type": "display_data",
          "data": {
            "image/png": "[encoded data removed]",
            "text/plain": [
              "<Figure size 432x288 with 1 Axes>"
            ]
          },
          "metadata": {
            "tags": [],
            "needs_background": "light"
          }
        }
      ]
    },
    {
      "cell_type": "markdown",
      "metadata": {
        "id": "BjvcYnDQJxNl"
      },
      "source": [
        "**Ordenamos el set datos por volumen de producción**"
      ]
    },
    {
      "cell_type": "markdown",
      "metadata": {
        "id": "8uZcmYwkNUZC"
      },
      "source": [
        "Debido a que se desea obtener la relación entre el volumen de producción y los costos variables, ordenamos el set de datos por volumen de producción para obtener las diferencias"
      ]
    },
    {
      "cell_type": "code",
      "metadata": {
        "colab": {
          "base_uri": "https://localhost:8080/",
          "height": 382
        },
        "id": "hLD7QefHWUuh",
        "outputId": "934d6f43-9dd2-4562-9721-23d6001d0329"
      },
      "source": [
        "\n",
        "costos = costos.sort_values(by='Volumen Produccion $')\n",
        "costos"
      ],
      "execution_count": 6,
      "outputs": [
        {
          "output_type": "execute_result",
          "data": {
            "text/html": [
              "<div>\n",
              "<style scoped>\n",
              "    .dataframe tbody tr th:only-of-type {\n",
              "        vertical-align: middle;\n",
              "    }\n",
              "\n",
              "    .dataframe tbody tr th {\n",
              "        vertical-align: top;\n",
              "    }\n",
              "\n",
              "    .dataframe thead th {\n",
              "        text-align: right;\n",
              "    }\n",
              "</style>\n",
              "<table border=\"1\" class=\"dataframe\">\n",
              "  <thead>\n",
              "    <tr style=\"text-align: right;\">\n",
              "      <th></th>\n",
              "      <th>Producto</th>\n",
              "      <th>Mes</th>\n",
              "      <th>Volumen Produccion</th>\n",
              "      <th>Volumen Produccion $</th>\n",
              "      <th>Seguridad $</th>\n",
              "      <th>Quimicos $</th>\n",
              "      <th>Material $</th>\n",
              "    </tr>\n",
              "  </thead>\n",
              "  <tbody>\n",
              "    <tr>\n",
              "      <th>1</th>\n",
              "      <td>A</td>\n",
              "      <td>2020-08-01</td>\n",
              "      <td>2705</td>\n",
              "      <td>297350.970840</td>\n",
              "      <td>90.151776</td>\n",
              "      <td>221.229122</td>\n",
              "      <td>294.818436</td>\n",
              "    </tr>\n",
              "    <tr>\n",
              "      <th>9</th>\n",
              "      <td>A</td>\n",
              "      <td>2021-04-01</td>\n",
              "      <td>2228</td>\n",
              "      <td>307747.976184</td>\n",
              "      <td>45.968868</td>\n",
              "      <td>228.964494</td>\n",
              "      <td>29.660004</td>\n",
              "    </tr>\n",
              "    <tr>\n",
              "      <th>10</th>\n",
              "      <td>A</td>\n",
              "      <td>2021-05-01</td>\n",
              "      <td>2652</td>\n",
              "      <td>313945.880292</td>\n",
              "      <td>93.048516</td>\n",
              "      <td>233.575735</td>\n",
              "      <td>127.360728</td>\n",
              "    </tr>\n",
              "    <tr>\n",
              "      <th>8</th>\n",
              "      <td>A</td>\n",
              "      <td>2021-03-01</td>\n",
              "      <td>3489</td>\n",
              "      <td>369779.663880</td>\n",
              "      <td>77.763312</td>\n",
              "      <td>372.873600</td>\n",
              "      <td>103.938516</td>\n",
              "    </tr>\n",
              "    <tr>\n",
              "      <th>5</th>\n",
              "      <td>A</td>\n",
              "      <td>2020-12-01</td>\n",
              "      <td>2892</td>\n",
              "      <td>398773.879416</td>\n",
              "      <td>130.558032</td>\n",
              "      <td>576.734400</td>\n",
              "      <td>1304.826732</td>\n",
              "    </tr>\n",
              "    <tr>\n",
              "      <th>3</th>\n",
              "      <td>A</td>\n",
              "      <td>2020-10-01</td>\n",
              "      <td>3192</td>\n",
              "      <td>401008.703436</td>\n",
              "      <td>122.355684</td>\n",
              "      <td>298.350475</td>\n",
              "      <td>350.178840</td>\n",
              "    </tr>\n",
              "    <tr>\n",
              "      <th>7</th>\n",
              "      <td>A</td>\n",
              "      <td>2021-02-01</td>\n",
              "      <td>3808</td>\n",
              "      <td>412804.982304</td>\n",
              "      <td>128.506356</td>\n",
              "      <td>307.126907</td>\n",
              "      <td>212.189472</td>\n",
              "    </tr>\n",
              "    <tr>\n",
              "      <th>6</th>\n",
              "      <td>A</td>\n",
              "      <td>2021-01-01</td>\n",
              "      <td>3454</td>\n",
              "      <td>438016.765428</td>\n",
              "      <td>121.562892</td>\n",
              "      <td>384.634800</td>\n",
              "      <td>133.794540</td>\n",
              "    </tr>\n",
              "    <tr>\n",
              "      <th>0</th>\n",
              "      <td>A</td>\n",
              "      <td>2020-07-01</td>\n",
              "      <td>2904</td>\n",
              "      <td>459988.586244</td>\n",
              "      <td>177.289200</td>\n",
              "      <td>342.231508</td>\n",
              "      <td>876.479472</td>\n",
              "    </tr>\n",
              "    <tr>\n",
              "      <th>2</th>\n",
              "      <td>A</td>\n",
              "      <td>2020-09-01</td>\n",
              "      <td>3535</td>\n",
              "      <td>516788.365104</td>\n",
              "      <td>158.750064</td>\n",
              "      <td>384.634800</td>\n",
              "      <td>810.703872</td>\n",
              "    </tr>\n",
              "    <tr>\n",
              "      <th>4</th>\n",
              "      <td>A</td>\n",
              "      <td>2020-11-01</td>\n",
              "      <td>3213</td>\n",
              "      <td>521199.015480</td>\n",
              "      <td>181.218312</td>\n",
              "      <td>768.834000</td>\n",
              "      <td>806.034240</td>\n",
              "    </tr>\n",
              "  </tbody>\n",
              "</table>\n",
              "</div>"
            ],
            "text/plain": [
              "   Producto        Mes  ...  Quimicos $   Material $\n",
              "1         A 2020-08-01  ...  221.229122   294.818436\n",
              "9         A 2021-04-01  ...  228.964494    29.660004\n",
              "10        A 2021-05-01  ...  233.575735   127.360728\n",
              "8         A 2021-03-01  ...  372.873600   103.938516\n",
              "5         A 2020-12-01  ...  576.734400  1304.826732\n",
              "3         A 2020-10-01  ...  298.350475   350.178840\n",
              "7         A 2021-02-01  ...  307.126907   212.189472\n",
              "6         A 2021-01-01  ...  384.634800   133.794540\n",
              "0         A 2020-07-01  ...  342.231508   876.479472\n",
              "2         A 2020-09-01  ...  384.634800   810.703872\n",
              "4         A 2020-11-01  ...  768.834000   806.034240\n",
              "\n",
              "[11 rows x 7 columns]"
            ]
          },
          "metadata": {
            "tags": []
          },
          "execution_count": 6
        }
      ]
    },
    {
      "cell_type": "markdown",
      "metadata": {
        "id": "6A06QO5dWUuh"
      },
      "source": [
        "**Relación de Volumen de Producción vs Seguridad**"
      ]
    },
    {
      "cell_type": "code",
      "metadata": {
        "colab": {
          "base_uri": "https://localhost:8080/",
          "height": 312
        },
        "id": "ZU2PvrVXWUuh",
        "outputId": "eaf9fdb3-24d8-424b-a52d-9bba3754cf0e"
      },
      "source": [
        "plt.title('Volumen Producción \\$ vs Seguridad \\$')\n",
        "plt.ylabel('Seguridad $')\n",
        "plt.xlabel('$ Volumen Producción ')\n",
        "plt.scatter(costos['Volumen Produccion $'], costos['Seguridad $'] )"
      ],
      "execution_count": 7,
      "outputs": [
        {
          "output_type": "execute_result",
          "data": {
            "text/plain": [
              "<matplotlib.collections.PathCollection at 0x7f53b4859490>"
            ]
          },
          "metadata": {
            "tags": []
          },
          "execution_count": 7
        },
        {
          "output_type": "display_data",
          "data": {
            "image/png": "[encoded data removed]",
            "text/plain": [
              "<Figure size 432x288 with 1 Axes>"
            ]
          },
          "metadata": {
            "tags": [],
            "needs_background": "light"
          }
        }
      ]
    },
    {
      "cell_type": "markdown",
      "metadata": {
        "id": "kkrPIS5GWUuh"
      },
      "source": [
        "**Calculando primeras y segundas diferencias para el costo de seguridad**"
      ]
    },
    {
      "cell_type": "markdown",
      "metadata": {
        "id": "GMrGLD2tUofD"
      },
      "source": [
        "Primeras diferencias"
      ]
    },
    {
      "cell_type": "code",
      "metadata": {
        "id": "OJkaImgWWUui",
        "colab": {
          "base_uri": "https://localhost:8080/",
          "height": 332
        },
        "outputId": "44279307-f906-43e1-8257-7122907e6117"
      },
      "source": [
        "dif_seg_1 = np.diff(costos['Seguridad $'])\n",
        "plt.title('Primeras diferencias',fontsize=10,loc='center')\n",
        "plt.plot(dif_seg_1)\n",
        "print(\"Resultado: \\n\", dif_seg_1)\n"
      ],
      "execution_count": 8,
      "outputs": [
        {
          "output_type": "stream",
          "text": [
            "Resultado: \n",
            " [-44.182908  47.079648 -15.285204  52.79472   -8.202348   6.150672\n",
            "  -6.943464  55.726308 -18.539136  22.468248]\n"
          ],
          "name": "stdout"
        },
        {
          "output_type": "display_data",
          "data": {
            "image/png": "[encoded data removed]",
            "text/plain": [
              "<Figure size 432x288 with 1 Axes>"
            ]
          },
          "metadata": {
            "tags": [],
            "needs_background": "light"
          }
        }
      ]
    },
    {
      "cell_type": "markdown",
      "metadata": {
        "id": "QOtzsYNLUts4"
      },
      "source": [
        "Segundas diferencias"
      ]
    },
    {
      "cell_type": "code",
      "metadata": {
        "id": "kjp2FUjQWUui",
        "colab": {
          "base_uri": "https://localhost:8080/",
          "height": 350
        },
        "outputId": "96404bb1-41fc-4afe-8ed0-232368ccb3cc"
      },
      "source": [
        "dif_seg_2 = np.diff(costos['Seguridad $'],2)\n",
        "plt.title('Segundas diferencias',fontsize=10,loc='center')\n",
        "plt.plot(dif_seg_2)\n",
        "print(\"Resultado de segundas diferencias: \\n\\n\", dif_seg_2)"
      ],
      "execution_count": 9,
      "outputs": [
        {
          "output_type": "stream",
          "text": [
            "Resultado de segundas diferencias: \n",
            "\n",
            " [ 91.262556 -62.364852  68.079924 -60.997068  14.35302  -13.094136\n",
            "  62.669772 -74.265444  41.007384]\n"
          ],
          "name": "stdout"
        },
        {
          "output_type": "display_data",
          "data": {
            "image/png": "[encoded data removed]",
            "text/plain": [
              "<Figure size 432x288 with 1 Axes>"
            ]
          },
          "metadata": {
            "tags": [],
            "needs_background": "light"
          }
        }
      ]
    },
    {
      "cell_type": "markdown",
      "metadata": {
        "id": "JPX23XD93_vf"
      },
      "source": [
        "Ordenando usando  volumen en unidades"
      ]
    },
    {
      "cell_type": "code",
      "metadata": {
        "colab": {
          "base_uri": "https://localhost:8080/",
          "height": 382
        },
        "id": "ofS1Jqap4Dg6",
        "outputId": "db9bc853-9aa4-4dc7-cbb0-278769ce7a22"
      },
      "source": [
        "costos = costos.sort_values(by='Volumen Produccion')\n",
        "costos"
      ],
      "execution_count": 10,
      "outputs": [
        {
          "output_type": "execute_result",
          "data": {
            "text/html": [
              "<div>\n",
              "<style scoped>\n",
              "    .dataframe tbody tr th:only-of-type {\n",
              "        vertical-align: middle;\n",
              "    }\n",
              "\n",
              "    .dataframe tbody tr th {\n",
              "        vertical-align: top;\n",
              "    }\n",
              "\n",
              "    .dataframe thead th {\n",
              "        text-align: right;\n",
              "    }\n",
              "</style>\n",
              "<table border=\"1\" class=\"dataframe\">\n",
              "  <thead>\n",
              "    <tr style=\"text-align: right;\">\n",
              "      <th></th>\n",
              "      <th>Producto</th>\n",
              "      <th>Mes</th>\n",
              "      <th>Volumen Produccion</th>\n",
              "      <th>Volumen Produccion $</th>\n",
              "      <th>Seguridad $</th>\n",
              "      <th>Quimicos $</th>\n",
              "      <th>Material $</th>\n",
              "    </tr>\n",
              "  </thead>\n",
              "  <tbody>\n",
              "    <tr>\n",
              "      <th>9</th>\n",
              "      <td>A</td>\n",
              "      <td>2021-04-01</td>\n",
              "      <td>2228</td>\n",
              "      <td>307747.976184</td>\n",
              "      <td>45.968868</td>\n",
              "      <td>228.964494</td>\n",
              "      <td>29.660004</td>\n",
              "    </tr>\n",
              "    <tr>\n",
              "      <th>10</th>\n",
              "      <td>A</td>\n",
              "      <td>2021-05-01</td>\n",
              "      <td>2652</td>\n",
              "      <td>313945.880292</td>\n",
              "      <td>93.048516</td>\n",
              "      <td>233.575735</td>\n",
              "      <td>127.360728</td>\n",
              "    </tr>\n",
              "    <tr>\n",
              "      <th>1</th>\n",
              "      <td>A</td>\n",
              "      <td>2020-08-01</td>\n",
              "      <td>2705</td>\n",
              "      <td>297350.970840</td>\n",
              "      <td>90.151776</td>\n",
              "      <td>221.229122</td>\n",
              "      <td>294.818436</td>\n",
              "    </tr>\n",
              "    <tr>\n",
              "      <th>5</th>\n",
              "      <td>A</td>\n",
              "      <td>2020-12-01</td>\n",
              "      <td>2892</td>\n",
              "      <td>398773.879416</td>\n",
              "      <td>130.558032</td>\n",
              "      <td>576.734400</td>\n",
              "      <td>1304.826732</td>\n",
              "    </tr>\n",
              "    <tr>\n",
              "      <th>0</th>\n",
              "      <td>A</td>\n",
              "      <td>2020-07-01</td>\n",
              "      <td>2904</td>\n",
              "      <td>459988.586244</td>\n",
              "      <td>177.289200</td>\n",
              "      <td>342.231508</td>\n",
              "      <td>876.479472</td>\n",
              "    </tr>\n",
              "    <tr>\n",
              "      <th>3</th>\n",
              "      <td>A</td>\n",
              "      <td>2020-10-01</td>\n",
              "      <td>3192</td>\n",
              "      <td>401008.703436</td>\n",
              "      <td>122.355684</td>\n",
              "      <td>298.350475</td>\n",
              "      <td>350.178840</td>\n",
              "    </tr>\n",
              "    <tr>\n",
              "      <th>4</th>\n",
              "      <td>A</td>\n",
              "      <td>2020-11-01</td>\n",
              "      <td>3213</td>\n",
              "      <td>521199.015480</td>\n",
              "      <td>181.218312</td>\n",
              "      <td>768.834000</td>\n",
              "      <td>806.034240</td>\n",
              "    </tr>\n",
              "    <tr>\n",
              "      <th>6</th>\n",
              "      <td>A</td>\n",
              "      <td>2021-01-01</td>\n",
              "      <td>3454</td>\n",
              "      <td>438016.765428</td>\n",
              "      <td>121.562892</td>\n",
              "      <td>384.634800</td>\n",
              "      <td>133.794540</td>\n",
              "    </tr>\n",
              "    <tr>\n",
              "      <th>8</th>\n",
              "      <td>A</td>\n",
              "      <td>2021-03-01</td>\n",
              "      <td>3489</td>\n",
              "      <td>369779.663880</td>\n",
              "      <td>77.763312</td>\n",
              "      <td>372.873600</td>\n",
              "      <td>103.938516</td>\n",
              "    </tr>\n",
              "    <tr>\n",
              "      <th>2</th>\n",
              "      <td>A</td>\n",
              "      <td>2020-09-01</td>\n",
              "      <td>3535</td>\n",
              "      <td>516788.365104</td>\n",
              "      <td>158.750064</td>\n",
              "      <td>384.634800</td>\n",
              "      <td>810.703872</td>\n",
              "    </tr>\n",
              "    <tr>\n",
              "      <th>7</th>\n",
              "      <td>A</td>\n",
              "      <td>2021-02-01</td>\n",
              "      <td>3808</td>\n",
              "      <td>412804.982304</td>\n",
              "      <td>128.506356</td>\n",
              "      <td>307.126907</td>\n",
              "      <td>212.189472</td>\n",
              "    </tr>\n",
              "  </tbody>\n",
              "</table>\n",
              "</div>"
            ],
            "text/plain": [
              "   Producto        Mes  ...  Quimicos $   Material $\n",
              "9         A 2021-04-01  ...  228.964494    29.660004\n",
              "10        A 2021-05-01  ...  233.575735   127.360728\n",
              "1         A 2020-08-01  ...  221.229122   294.818436\n",
              "5         A 2020-12-01  ...  576.734400  1304.826732\n",
              "0         A 2020-07-01  ...  342.231508   876.479472\n",
              "3         A 2020-10-01  ...  298.350475   350.178840\n",
              "4         A 2020-11-01  ...  768.834000   806.034240\n",
              "6         A 2021-01-01  ...  384.634800   133.794540\n",
              "8         A 2021-03-01  ...  372.873600   103.938516\n",
              "2         A 2020-09-01  ...  384.634800   810.703872\n",
              "7         A 2021-02-01  ...  307.126907   212.189472\n",
              "\n",
              "[11 rows x 7 columns]"
            ]
          },
          "metadata": {
            "tags": []
          },
          "execution_count": 10
        }
      ]
    },
    {
      "cell_type": "code",
      "metadata": {
        "colab": {
          "base_uri": "https://localhost:8080/",
          "height": 332
        },
        "id": "og2y9tcE4SpG",
        "outputId": "5aa75fac-36db-4947-c2ce-e313906a602a"
      },
      "source": [
        "dif_seg_1 = np.diff(costos['Seguridad $'])\n",
        "plt.title('Primeras diferencias',fontsize=10,loc='center')\n",
        "plt.plot(dif_seg_1)\n",
        "print(\"Resultado: \\n\", dif_seg_1)"
      ],
      "execution_count": 11,
      "outputs": [
        {
          "output_type": "stream",
          "text": [
            "Resultado: \n",
            " [ 47.079648  -2.89674   40.406256  46.731168 -54.933516  58.862628\n",
            " -59.65542  -43.79958   80.986752 -30.243708]\n"
          ],
          "name": "stdout"
        },
        {
          "output_type": "display_data",
          "data": {
            "image/png": "[encoded data removed]",
            "text/plain": [
              "<Figure size 432x288 with 1 Axes>"
            ]
          },
          "metadata": {
            "tags": [],
            "needs_background": "light"
          }
        }
      ]
    },
    {
      "cell_type": "markdown",
      "metadata": {
        "id": "jVQYEptBGwGx"
      },
      "source": [
        "**Costos**"
      ]
    },
    {
      "cell_type": "code",
      "metadata": {
        "colab": {
          "base_uri": "https://localhost:8080/",
          "height": 312
        },
        "id": "5wKpBU5AWUuj",
        "outputId": "8fb2bf23-d4c6-41e5-9239-c52e1f661a8a"
      },
      "source": [
        "plt.title('Volumen Producción \\$ vs Químicos \\$')\n",
        "plt.ylabel('Químicos $')\n",
        "plt.xlabel('$ Volumen Producción')\n",
        "plt.scatter(costos['Volumen Produccion $'], costos['Quimicos $'] )"
      ],
      "execution_count": 12,
      "outputs": [
        {
          "output_type": "execute_result",
          "data": {
            "text/plain": [
              "<matplotlib.collections.PathCollection at 0x7f53b47ee550>"
            ]
          },
          "metadata": {
            "tags": []
          },
          "execution_count": 12
        },
        {
          "output_type": "display_data",
          "data": {
            "image/png": "[encoded data removed]",
            "text/plain": [
              "<Figure size 432x288 with 1 Axes>"
            ]
          },
          "metadata": {
            "tags": [],
            "needs_background": "light"
          }
        }
      ]
    },
    {
      "cell_type": "markdown",
      "metadata": {
        "id": "QRE3cudNWUuj"
      },
      "source": [
        "**Calculando primeras y segundas diferencias para Químicos**"
      ]
    },
    {
      "cell_type": "code",
      "metadata": {
        "id": "bYTqfx0AWUuj",
        "colab": {
          "base_uri": "https://localhost:8080/",
          "height": 315
        },
        "outputId": "c09a5945-06f8-4115-ab48-58067700bd18"
      },
      "source": [
        "dif_seg_1 = np.diff(costos['Quimicos $'])\n",
        "plt.title('Primeras diferencias',fontsize=10,loc='center')\n",
        "plt.plot(dif_seg_1)\n",
        "print(\"Las primeras diferencias son: \", dif_seg_1)"
      ],
      "execution_count": 13,
      "outputs": [
        {
          "output_type": "stream",
          "text": [
            "Las primeras diferencias son:  [   4.61124066  -12.34661263  355.5052777  -234.50289183  -43.88103281\n",
            "  470.48352464 -384.1992      -11.7612       11.7612      -77.50789317]\n"
          ],
          "name": "stdout"
        },
        {
          "output_type": "display_data",
          "data": {
            "image/png": "[encoded data removed]",
            "text/plain": [
              "<Figure size 432x288 with 1 Axes>"
            ]
          },
          "metadata": {
            "tags": [],
            "needs_background": "light"
          }
        }
      ]
    },
    {
      "cell_type": "code",
      "metadata": {
        "id": "d0qqxIR4WUuk",
        "colab": {
          "base_uri": "https://localhost:8080/",
          "height": 315
        },
        "outputId": "de0655a1-9208-4066-97df-1a05207b5239"
      },
      "source": [
        "dif_seg_2 = np.diff(costos['Quimicos $'])\n",
        "plt.title('Primeras diferencias',fontsize=10,loc='center')\n",
        "plt.plot(dif_seg_1)\n",
        "print(\"Las primeras diferencias son: \", dif_seg_2)\n"
      ],
      "execution_count": 14,
      "outputs": [
        {
          "output_type": "stream",
          "text": [
            "Las primeras diferencias son:  [   4.61124066  -12.34661263  355.5052777  -234.50289183  -43.88103281\n",
            "  470.48352464 -384.1992      -11.7612       11.7612      -77.50789317]\n"
          ],
          "name": "stdout"
        },
        {
          "output_type": "display_data",
          "data": {
            "image/png": "[encoded data removed]",
            "text/plain": [
              "<Figure size 432x288 with 1 Axes>"
            ]
          },
          "metadata": {
            "tags": [],
            "needs_background": "light"
          }
        }
      ]
    },
    {
      "cell_type": "code",
      "metadata": {
        "colab": {
          "base_uri": "https://localhost:8080/",
          "height": 315
        },
        "id": "aXVSTnXfGwGy",
        "outputId": "c80b5190-02af-43ff-a6fa-ca001cdc20bd"
      },
      "source": [
        "dif_seg_1 = np.diff(costos['Material $'])\n",
        "plt.title('Primeras diferencias',fontsize=10,loc='center')\n",
        "plt.plot(dif_seg_1)\n",
        "print(\"Las primeras diferencias son: \", dif_seg_1)"
      ],
      "execution_count": 15,
      "outputs": [
        {
          "output_type": "stream",
          "text": [
            "Las primeras diferencias son:  [  97.700724  167.457708 1010.008296 -428.34726  -526.300632  455.8554\n",
            " -672.2397    -29.856024  706.765356 -598.5144  ]\n"
          ],
          "name": "stdout"
        },
        {
          "output_type": "display_data",
          "data": {
            "image/png": "[encoded data removed]",
            "text/plain": [
              "<Figure size 432x288 with 1 Axes>"
            ]
          },
          "metadata": {
            "tags": [],
            "needs_background": "light"
          }
        }
      ]
    },
    {
      "cell_type": "code",
      "metadata": {
        "colab": {
          "base_uri": "https://localhost:8080/",
          "height": 350
        },
        "id": "Sato1CjNGwGy",
        "outputId": "af3adef7-3879-4066-92b4-c0ff4d6bbd10"
      },
      "source": [
        "dif_seg_2 = np.diff(costos['Material $'], 2)\n",
        "plt.title('Segundas diferencias',fontsize=10,loc='center')\n",
        "plt.plot(dif_seg_2)\n",
        "print(\"Resultado de segundas diferencias son:\\n \", dif_seg_2,'\\n')\n"
      ],
      "execution_count": 16,
      "outputs": [
        {
          "output_type": "stream",
          "text": [
            "Resultado de segundas diferencias son:\n",
            "  [   69.756984   842.550588 -1438.355556   -97.953372   982.156032\n",
            " -1128.0951     642.383676   736.62138  -1305.279756] \n",
            "\n"
          ],
          "name": "stdout"
        },
        {
          "output_type": "display_data",
          "data": {
            "image/png": "[encoded data removed]",
            "text/plain": [
              "<Figure size 432x288 with 1 Axes>"
            ]
          },
          "metadata": {
            "tags": [],
            "needs_background": "light"
          }
        }
      ]
    },
    {
      "cell_type": "markdown",
      "metadata": {
        "id": "fx9irfHDYnmj"
      },
      "source": [
        "**Modelado de datos a traves de regresión lineal**\n",
        "\n",
        "\n",
        "Utilizaremos el modelo de regresión lineal simple, en donde nuestras variables dependientes seran los costos variables, tomaremos como variable independiente el volumen de producción monetizado."
      ]
    },
    {
      "cell_type": "markdown",
      "metadata": {
        "id": "G7jp-WlYvJSL"
      },
      "source": [
        "**Seguridad**\n",
        "\n",
        "Creando el modelo de regresión"
      ]
    },
    {
      "cell_type": "code",
      "metadata": {
        "id": "fJbKA7IAYyPe"
      },
      "source": [
        "y = np.asarray(costos['Seguridad $'])\n",
        "X = np.asarray(costos['Volumen Produccion $']).reshape(-1, 1)\n",
        "regresion_lineal_s = LinearRegression() \n",
        "regresion_lineal_s.fit(X, y)\n",
        "y_pred = regresion_lineal_s.predict(X)"
      ],
      "execution_count": 17,
      "outputs": []
    },
    {
      "cell_type": "markdown",
      "metadata": {
        "id": "zRAXgCeVUa5s"
      },
      "source": [
        "Métricas"
      ]
    },
    {
      "cell_type": "code",
      "metadata": {
        "colab": {
          "base_uri": "https://localhost:8080/"
        },
        "id": "ExWtWxhNUIvL",
        "outputId": "039237fd-ad33-4585-e231-487f8ab0b585"
      },
      "source": [
        "print (f'Coeficiente beta1: ', regresion_lineal_s.coef_[0])\n",
        "print('w = ' + str(regresion_lineal_s.coef_) + ', b = ' + str(regresion_lineal_s.intercept_))\n",
        "print(\"Error cuadrático medio: %.2f\" % math.sqrt(mse(y, y_pred)))\n",
        "print('r cuadrada: %.2f' % r2_score(y, y_pred))\n",
        "\n",
        "b0L = regresion_lineal_s.intercept_\n",
        "b1L = regresion_lineal_s.coef_[0]\n"
      ],
      "execution_count": 18,
      "outputs": [
        {
          "output_type": "stream",
          "text": [
            "Coeficiente beta1:  0.00047721958600368614\n",
            "w = [0.00047722], b = -71.85849674093491\n",
            "Error cuadrático medio: 18.49\n",
            "r cuadrada: 0.79\n"
          ],
          "name": "stdout"
        }
      ]
    },
    {
      "cell_type": "markdown",
      "metadata": {
        "id": "V0Snj7QDU8Fj"
      },
      "source": [
        "Gráfica de Regresión"
      ]
    },
    {
      "cell_type": "code",
      "metadata": {
        "colab": {
          "base_uri": "https://localhost:8080/",
          "height": 295
        },
        "id": "srPUbfrGnfMZ",
        "outputId": "67756151-2d99-4b5b-ad51-8716caa34c3d"
      },
      "source": [
        "plt.title('Regresión Lineal Volumen Producción \\$ vs Seguridad \\$')\n",
        "plt.ylabel('Seguridad')\n",
        "plt.xlabel('Volumen Producción $')\n",
        "plt.scatter(X, y)\n",
        "plt.plot(X, y_pred, color='red')\n",
        "plt.show()\n"
      ],
      "execution_count": 19,
      "outputs": [
        {
          "output_type": "display_data",
          "data": {
            "image/png": "[encoded data removed]",
            "text/plain": [
              "<Figure size 432x288 with 1 Axes>"
            ]
          },
          "metadata": {
            "tags": [],
            "needs_background": "light"
          }
        }
      ]
    },
    {
      "cell_type": "markdown",
      "metadata": {
        "id": "HSW0nYbs5QJs"
      },
      "source": [
        "**Observaciones** \n",
        "\n",
        "El costo de seguridad en algunos puntos sí está asociado con el volumen de producción. Existen casos en los cuales no se ve la asociación, por ejemplo: \n",
        "volumen de producción = $$307,747.976184\ty costo de seguridad = $45.96886\n",
        "\n"
      ]
    },
    {
      "cell_type": "markdown",
      "metadata": {
        "id": "mOkvRMmXqMK8"
      },
      "source": [
        "**Químicos**"
      ]
    },
    {
      "cell_type": "markdown",
      "metadata": {
        "id": "b7gCIdFEVOMA"
      },
      "source": [
        "Generando modelo de regresión"
      ]
    },
    {
      "cell_type": "code",
      "metadata": {
        "id": "vkSuPV2FqK91"
      },
      "source": [
        "y_q = np.asarray(costos['Quimicos $'])\n",
        "regresion_lineal_q = LinearRegression()\n",
        "regresion_lineal_q.fit(X, y_q)\n",
        "y_pred_q = regresion_lineal_q.predict(X)"
      ],
      "execution_count": 20,
      "outputs": []
    },
    {
      "cell_type": "markdown",
      "metadata": {
        "id": "-et3LKZqZl-E"
      },
      "source": [
        "Métricas"
      ]
    },
    {
      "cell_type": "code",
      "metadata": {
        "colab": {
          "base_uri": "https://localhost:8080/"
        },
        "id": "AE6hl4RLZk5B",
        "outputId": "1b885f0d-de6c-4f76-bdcd-efb7b112b407"
      },
      "source": [
        "b0L = regresion_lineal_s.intercept_\n",
        "b1L = regresion_lineal_s.coef_[0]\n",
        "print (f'Coeficiente beta1: ', regresion_lineal_q.coef_[0])\n",
        "print('w = ' + str(regresion_lineal_q.coef_) + ', b = ' + str(regresion_lineal_q.intercept_))\n",
        "print(\"Error cuadrático medio: %.2f\" % math.sqrt(mse(y, y_pred_q)))\n",
        "print('r cuadrada: %.2f' % r2_score(y, y_pred_q))\n",
        "\n"
      ],
      "execution_count": 21,
      "outputs": [
        {
          "output_type": "stream",
          "text": [
            "Coeficiente beta1:  0.0014409045036531236\n",
            "w = [0.0014409], b = -206.78970023254578\n",
            "Error cuadrático medio: 264.38\n",
            "r cuadrada: -42.69\n"
          ],
          "name": "stdout"
        }
      ]
    },
    {
      "cell_type": "markdown",
      "metadata": {
        "id": "y9fDy8ejYuD6"
      },
      "source": [
        "Gráfica de Regresión"
      ]
    },
    {
      "cell_type": "code",
      "metadata": {
        "colab": {
          "base_uri": "https://localhost:8080/",
          "height": 295
        },
        "id": "zEQjNuOoun-e",
        "outputId": "d3c07f74-52cd-4218-fd6b-df4871699877"
      },
      "source": [
        "plt.title('Regresión Lineal Volumen Producción \\$ vs Químicos \\$')\n",
        "plt.ylabel('Químicos $')\n",
        "plt.xlabel('Volumen Producción $')\n",
        "plt.scatter(X, y_q)\n",
        "plt.plot(X, y_pred_q, color='red')\n",
        "plt.show()\n"
      ],
      "execution_count": 22,
      "outputs": [
        {
          "output_type": "display_data",
          "data": {
            "image/png": "[encoded data removed]",
            "text/plain": [
              "<Figure size 432x288 with 1 Axes>"
            ]
          },
          "metadata": {
            "tags": [],
            "needs_background": "light"
          }
        }
      ]
    },
    {
      "cell_type": "markdown",
      "metadata": {
        "id": "h34U3u5l_dtb"
      },
      "source": [
        "**Observaciones**\n",
        "\n",
        "El resultado negativo de la r cuadrada, nos indica que no existe una relación entre el volumen de producción y el costo de químicos, en la gráfica podemos observar como solo un punto está cercano a la línea de regresión, por lo tanto podemos determinar que el modelo lineal para este grupo de datos no es eficiente.\n"
      ]
    },
    {
      "cell_type": "markdown",
      "metadata": {
        "id": "7QW945RL05Fd"
      },
      "source": [
        "**Material**"
      ]
    },
    {
      "cell_type": "markdown",
      "metadata": {
        "id": "9PaLm81xY-SI"
      },
      "source": [
        "Creando modelo de regresión"
      ]
    },
    {
      "cell_type": "code",
      "metadata": {
        "id": "PBks0WOLulcP"
      },
      "source": [
        "y_m = np.asarray(costos['Material $'])\n",
        "regresion_lineal_m = LinearRegression()\n",
        "regresion_lineal_m.fit(X, y_m)\n",
        "y_pred_m = regresion_lineal_q.predict(X)"
      ],
      "execution_count": 23,
      "outputs": []
    },
    {
      "cell_type": "markdown",
      "metadata": {
        "id": "RxRBdhd3aO0l"
      },
      "source": [
        "Métricas"
      ]
    },
    {
      "cell_type": "code",
      "metadata": {
        "colab": {
          "base_uri": "https://localhost:8080/"
        },
        "id": "ZjEv0ZQeaNrT",
        "outputId": "42f9ebca-4438-42cf-d712-6d62a782a921"
      },
      "source": [
        "print (f'Coeficiente beta1: ', regresion_lineal_m.coef_[0])\n",
        "print('w = ' + str(regresion_lineal_m.coef_) + ', b = ' + str(regresion_lineal_m.intercept_))\n",
        "print(\"Error cuadrático medio: %.2f\" % math.sqrt(mse(y, y_pred_m)))\n",
        "print('r cuadrada: %.2f' % r2_score(y, y_pred_m))\n"
      ],
      "execution_count": 24,
      "outputs": [
        {
          "output_type": "stream",
          "text": [
            "Coeficiente beta1:  0.00308064690380222\n",
            "w = [0.00308065], b = -783.6447700856709\n",
            "Error cuadrático medio: 264.38\n",
            "r cuadrada: -42.69\n"
          ],
          "name": "stdout"
        }
      ]
    },
    {
      "cell_type": "markdown",
      "metadata": {
        "id": "-dkS7tSIain-"
      },
      "source": [
        "Gráfica de Regresión"
      ]
    },
    {
      "cell_type": "code",
      "metadata": {
        "colab": {
          "base_uri": "https://localhost:8080/",
          "height": 295
        },
        "id": "Z9v5pT4F1sfZ",
        "outputId": "8f4ac0de-16f3-4fd3-af03-d4665e3f5f09"
      },
      "source": [
        "plt.title('Regresión Lineal Volumen Producción \\$ vs Material \\$')\n",
        "plt.ylabel('Material $')\n",
        "plt.xlabel('Volumen Producción $')\n",
        "plt.scatter(X, y_m)\n",
        "plt.plot(X, y_pred_m, color='red')\n",
        "plt.show()"
      ],
      "execution_count": 25,
      "outputs": [
        {
          "output_type": "display_data",
          "data": {
            "image/png": "[encoded data removed]",
            "text/plain": [
              "<Figure size 432x288 with 1 Axes>"
            ]
          },
          "metadata": {
            "tags": [],
            "needs_background": "light"
          }
        }
      ]
    },
    {
      "cell_type": "markdown",
      "metadata": {
        "id": "ldzRznfYA96b"
      },
      "source": [
        "**Observaciones**\n",
        "\n",
        "De acuerdo al resultado obtenido en el valor de r cuadrada, el modelo no es completamente lineal. Algunos de los puntos no se encuentran cercanos a  la línea de regresión y se pueden observar outliers en algunos de los costos de material. Por lo tanto, el modelo lineal no es eficiente para este grupo de datos."
      ]
    },
    {
      "cell_type": "markdown",
      "metadata": {
        "id": "Wq3shwEACmPy"
      },
      "source": [
        "**Predicción**"
      ]
    },
    {
      "cell_type": "markdown",
      "metadata": {
        "id": "1euo8-DQme08"
      },
      "source": [
        "Con los resultados obtenidos en las regresiones anteriores, realizaremos la predicción para cada costo variable para los próximos 6 meses, como dato de entrada utilizaremos el volumen monetizado."
      ]
    },
    {
      "cell_type": "code",
      "metadata": {
        "colab": {
          "base_uri": "https://localhost:8080/",
          "height": 200
        },
        "id": "KqjBgva4HCwl",
        "outputId": "e0aa42fb-eccc-4918-a81e-5a7f538e25e7"
      },
      "source": [
        "planeado = pd.read_excel('data_set_n.xlsx', sheet_name = 'data_planeada' )\n",
        "X_planeada = np.asarray(planeado['Volumen Produccion $']).reshape(-1, 1)\n",
        "planeado.head()"
      ],
      "execution_count": 26,
      "outputs": [
        {
          "output_type": "execute_result",
          "data": {
            "text/html": [
              "<div>\n",
              "<style scoped>\n",
              "    .dataframe tbody tr th:only-of-type {\n",
              "        vertical-align: middle;\n",
              "    }\n",
              "\n",
              "    .dataframe tbody tr th {\n",
              "        vertical-align: top;\n",
              "    }\n",
              "\n",
              "    .dataframe thead th {\n",
              "        text-align: right;\n",
              "    }\n",
              "</style>\n",
              "<table border=\"1\" class=\"dataframe\">\n",
              "  <thead>\n",
              "    <tr style=\"text-align: right;\">\n",
              "      <th></th>\n",
              "      <th>Mes</th>\n",
              "      <th>Volumen Produccion</th>\n",
              "      <th>Volumen Produccion $</th>\n",
              "    </tr>\n",
              "  </thead>\n",
              "  <tbody>\n",
              "    <tr>\n",
              "      <th>0</th>\n",
              "      <td>2021-06-01</td>\n",
              "      <td>1608</td>\n",
              "      <td>428109.8184</td>\n",
              "    </tr>\n",
              "    <tr>\n",
              "      <th>1</th>\n",
              "      <td>2021-07-01</td>\n",
              "      <td>1310</td>\n",
              "      <td>348792.9291</td>\n",
              "    </tr>\n",
              "    <tr>\n",
              "      <th>2</th>\n",
              "      <td>2021-08-01</td>\n",
              "      <td>1347</td>\n",
              "      <td>358710.0363</td>\n",
              "    </tr>\n",
              "    <tr>\n",
              "      <th>3</th>\n",
              "      <td>2021-09-01</td>\n",
              "      <td>1287</td>\n",
              "      <td>342487.4904</td>\n",
              "    </tr>\n",
              "    <tr>\n",
              "      <th>4</th>\n",
              "      <td>2021-10-01</td>\n",
              "      <td>1855</td>\n",
              "      <td>493681.9932</td>\n",
              "    </tr>\n",
              "  </tbody>\n",
              "</table>\n",
              "</div>"
            ],
            "text/plain": [
              "         Mes  Volumen Produccion  Volumen Produccion $\n",
              "0 2021-06-01                1608           428109.8184\n",
              "1 2021-07-01                1310           348792.9291\n",
              "2 2021-08-01                1347           358710.0363\n",
              "3 2021-09-01                1287           342487.4904\n",
              "4 2021-10-01                1855           493681.9932"
            ]
          },
          "metadata": {
            "tags": []
          },
          "execution_count": 26
        }
      ]
    },
    {
      "cell_type": "markdown",
      "metadata": {
        "id": "L8FbCrqkraPj"
      },
      "source": [
        "**Prediciendo los costos futuros de seguridad**"
      ]
    },
    {
      "cell_type": "markdown",
      "metadata": {
        "id": "XtxQ_1z8rowh"
      },
      "source": [
        "Desplegando los datos"
      ]
    },
    {
      "cell_type": "code",
      "metadata": {
        "colab": {
          "base_uri": "https://localhost:8080/",
          "height": 261
        },
        "id": "1--1nmqgmC-O",
        "outputId": "4babcf72-bc2b-4ea1-c8f7-648f92aeae74"
      },
      "source": [
        "\n",
        "planeado['Seguridad $ - F'] = regresion_lineal_s.predict(X_planeada)\n",
        "planeado"
      ],
      "execution_count": 27,
      "outputs": [
        {
          "output_type": "execute_result",
          "data": {
            "text/html": [
              "<div>\n",
              "<style scoped>\n",
              "    .dataframe tbody tr th:only-of-type {\n",
              "        vertical-align: middle;\n",
              "    }\n",
              "\n",
              "    .dataframe tbody tr th {\n",
              "        vertical-align: top;\n",
              "    }\n",
              "\n",
              "    .dataframe thead th {\n",
              "        text-align: right;\n",
              "    }\n",
              "</style>\n",
              "<table border=\"1\" class=\"dataframe\">\n",
              "  <thead>\n",
              "    <tr style=\"text-align: right;\">\n",
              "      <th></th>\n",
              "      <th>Mes</th>\n",
              "      <th>Volumen Produccion</th>\n",
              "      <th>Volumen Produccion $</th>\n",
              "      <th>Seguridad $ - F</th>\n",
              "    </tr>\n",
              "  </thead>\n",
              "  <tbody>\n",
              "    <tr>\n",
              "      <th>0</th>\n",
              "      <td>2021-06-01</td>\n",
              "      <td>1608</td>\n",
              "      <td>428109.8184</td>\n",
              "      <td>132.443894</td>\n",
              "    </tr>\n",
              "    <tr>\n",
              "      <th>1</th>\n",
              "      <td>2021-07-01</td>\n",
              "      <td>1310</td>\n",
              "      <td>348792.9291</td>\n",
              "      <td>94.592320</td>\n",
              "    </tr>\n",
              "    <tr>\n",
              "      <th>2</th>\n",
              "      <td>2021-08-01</td>\n",
              "      <td>1347</td>\n",
              "      <td>358710.0363</td>\n",
              "      <td>99.324958</td>\n",
              "    </tr>\n",
              "    <tr>\n",
              "      <th>3</th>\n",
              "      <td>2021-09-01</td>\n",
              "      <td>1287</td>\n",
              "      <td>342487.4904</td>\n",
              "      <td>91.583242</td>\n",
              "    </tr>\n",
              "    <tr>\n",
              "      <th>4</th>\n",
              "      <td>2021-10-01</td>\n",
              "      <td>1855</td>\n",
              "      <td>493681.9932</td>\n",
              "      <td>163.736220</td>\n",
              "    </tr>\n",
              "    <tr>\n",
              "      <th>5</th>\n",
              "      <td>2021-11-01</td>\n",
              "      <td>1322</td>\n",
              "      <td>351891.6984</td>\n",
              "      <td>96.071114</td>\n",
              "    </tr>\n",
              "    <tr>\n",
              "      <th>6</th>\n",
              "      <td>2021-12-01</td>\n",
              "      <td>1150</td>\n",
              "      <td>351892.3419</td>\n",
              "      <td>96.071421</td>\n",
              "    </tr>\n",
              "  </tbody>\n",
              "</table>\n",
              "</div>"
            ],
            "text/plain": [
              "         Mes  Volumen Produccion  Volumen Produccion $  Seguridad $ - F\n",
              "0 2021-06-01                1608           428109.8184       132.443894\n",
              "1 2021-07-01                1310           348792.9291        94.592320\n",
              "2 2021-08-01                1347           358710.0363        99.324958\n",
              "3 2021-09-01                1287           342487.4904        91.583242\n",
              "4 2021-10-01                1855           493681.9932       163.736220\n",
              "5 2021-11-01                1322           351891.6984        96.071114\n",
              "6 2021-12-01                1150           351892.3419        96.071421"
            ]
          },
          "metadata": {
            "tags": []
          },
          "execution_count": 27
        }
      ]
    },
    {
      "cell_type": "markdown",
      "metadata": {
        "id": "SG3CFbEnsMPw"
      },
      "source": [
        "**Prediciendo los costos futuros de Químicos**"
      ]
    },
    {
      "cell_type": "code",
      "metadata": {
        "colab": {
          "base_uri": "https://localhost:8080/",
          "height": 261
        },
        "id": "DQR_mjwwm6gX",
        "outputId": "05dfb3c6-a346-4e17-eb3b-6007abe19aa9"
      },
      "source": [
        "\n",
        "planeado['Quimicos $ - F'] = regresion_lineal_q.predict(X_planeada)\n",
        "planeado"
      ],
      "execution_count": 28,
      "outputs": [
        {
          "output_type": "execute_result",
          "data": {
            "text/html": [
              "<div>\n",
              "<style scoped>\n",
              "    .dataframe tbody tr th:only-of-type {\n",
              "        vertical-align: middle;\n",
              "    }\n",
              "\n",
              "    .dataframe tbody tr th {\n",
              "        vertical-align: top;\n",
              "    }\n",
              "\n",
              "    .dataframe thead th {\n",
              "        text-align: right;\n",
              "    }\n",
              "</style>\n",
              "<table border=\"1\" class=\"dataframe\">\n",
              "  <thead>\n",
              "    <tr style=\"text-align: right;\">\n",
              "      <th></th>\n",
              "      <th>Mes</th>\n",
              "      <th>Volumen Produccion</th>\n",
              "      <th>Volumen Produccion $</th>\n",
              "      <th>Seguridad $ - F</th>\n",
              "      <th>Quimicos $ - F</th>\n",
              "    </tr>\n",
              "  </thead>\n",
              "  <tbody>\n",
              "    <tr>\n",
              "      <th>0</th>\n",
              "      <td>2021-06-01</td>\n",
              "      <td>1608</td>\n",
              "      <td>428109.8184</td>\n",
              "      <td>132.443894</td>\n",
              "      <td>410.075665</td>\n",
              "    </tr>\n",
              "    <tr>\n",
              "      <th>1</th>\n",
              "      <td>2021-07-01</td>\n",
              "      <td>1310</td>\n",
              "      <td>348792.9291</td>\n",
              "      <td>94.592320</td>\n",
              "      <td>295.787602</td>\n",
              "    </tr>\n",
              "    <tr>\n",
              "      <th>2</th>\n",
              "      <td>2021-08-01</td>\n",
              "      <td>1347</td>\n",
              "      <td>358710.0363</td>\n",
              "      <td>99.324958</td>\n",
              "      <td>310.077207</td>\n",
              "    </tr>\n",
              "    <tr>\n",
              "      <th>3</th>\n",
              "      <td>2021-09-01</td>\n",
              "      <td>1287</td>\n",
              "      <td>342487.4904</td>\n",
              "      <td>91.583242</td>\n",
              "      <td>286.702067</td>\n",
              "    </tr>\n",
              "    <tr>\n",
              "      <th>4</th>\n",
              "      <td>2021-10-01</td>\n",
              "      <td>1855</td>\n",
              "      <td>493681.9932</td>\n",
              "      <td>163.736220</td>\n",
              "      <td>504.558907</td>\n",
              "    </tr>\n",
              "    <tr>\n",
              "      <th>5</th>\n",
              "      <td>2021-11-01</td>\n",
              "      <td>1322</td>\n",
              "      <td>351891.6984</td>\n",
              "      <td>96.071114</td>\n",
              "      <td>300.252633</td>\n",
              "    </tr>\n",
              "    <tr>\n",
              "      <th>6</th>\n",
              "      <td>2021-12-01</td>\n",
              "      <td>1150</td>\n",
              "      <td>351892.3419</td>\n",
              "      <td>96.071421</td>\n",
              "      <td>300.253560</td>\n",
              "    </tr>\n",
              "  </tbody>\n",
              "</table>\n",
              "</div>"
            ],
            "text/plain": [
              "         Mes  Volumen Produccion  ...  Seguridad $ - F  Quimicos $ - F\n",
              "0 2021-06-01                1608  ...       132.443894      410.075665\n",
              "1 2021-07-01                1310  ...        94.592320      295.787602\n",
              "2 2021-08-01                1347  ...        99.324958      310.077207\n",
              "3 2021-09-01                1287  ...        91.583242      286.702067\n",
              "4 2021-10-01                1855  ...       163.736220      504.558907\n",
              "5 2021-11-01                1322  ...        96.071114      300.252633\n",
              "6 2021-12-01                1150  ...        96.071421      300.253560\n",
              "\n",
              "[7 rows x 5 columns]"
            ]
          },
          "metadata": {
            "tags": []
          },
          "execution_count": 28
        }
      ]
    },
    {
      "cell_type": "markdown",
      "metadata": {
        "id": "u_xxqjWrsTri"
      },
      "source": [
        "**Prediciendo los costos futuros de Químicos**"
      ]
    },
    {
      "cell_type": "code",
      "metadata": {
        "colab": {
          "base_uri": "https://localhost:8080/",
          "height": 261
        },
        "id": "jQB3-447nFZg",
        "outputId": "78f6311d-e559-4dce-df0e-096a3b5da841"
      },
      "source": [
        "planeado['Quimicos $ - F'] = regresion_lineal_q.predict(X_planeada)\n",
        "planeado"
      ],
      "execution_count": 29,
      "outputs": [
        {
          "output_type": "execute_result",
          "data": {
            "text/html": [
              "<div>\n",
              "<style scoped>\n",
              "    .dataframe tbody tr th:only-of-type {\n",
              "        vertical-align: middle;\n",
              "    }\n",
              "\n",
              "    .dataframe tbody tr th {\n",
              "        vertical-align: top;\n",
              "    }\n",
              "\n",
              "    .dataframe thead th {\n",
              "        text-align: right;\n",
              "    }\n",
              "</style>\n",
              "<table border=\"1\" class=\"dataframe\">\n",
              "  <thead>\n",
              "    <tr style=\"text-align: right;\">\n",
              "      <th></th>\n",
              "      <th>Mes</th>\n",
              "      <th>Volumen Produccion</th>\n",
              "      <th>Volumen Produccion $</th>\n",
              "      <th>Seguridad $ - F</th>\n",
              "      <th>Quimicos $ - F</th>\n",
              "    </tr>\n",
              "  </thead>\n",
              "  <tbody>\n",
              "    <tr>\n",
              "      <th>0</th>\n",
              "      <td>2021-06-01</td>\n",
              "      <td>1608</td>\n",
              "      <td>428109.8184</td>\n",
              "      <td>132.443894</td>\n",
              "      <td>410.075665</td>\n",
              "    </tr>\n",
              "    <tr>\n",
              "      <th>1</th>\n",
              "      <td>2021-07-01</td>\n",
              "      <td>1310</td>\n",
              "      <td>348792.9291</td>\n",
              "      <td>94.592320</td>\n",
              "      <td>295.787602</td>\n",
              "    </tr>\n",
              "    <tr>\n",
              "      <th>2</th>\n",
              "      <td>2021-08-01</td>\n",
              "      <td>1347</td>\n",
              "      <td>358710.0363</td>\n",
              "      <td>99.324958</td>\n",
              "      <td>310.077207</td>\n",
              "    </tr>\n",
              "    <tr>\n",
              "      <th>3</th>\n",
              "      <td>2021-09-01</td>\n",
              "      <td>1287</td>\n",
              "      <td>342487.4904</td>\n",
              "      <td>91.583242</td>\n",
              "      <td>286.702067</td>\n",
              "    </tr>\n",
              "    <tr>\n",
              "      <th>4</th>\n",
              "      <td>2021-10-01</td>\n",
              "      <td>1855</td>\n",
              "      <td>493681.9932</td>\n",
              "      <td>163.736220</td>\n",
              "      <td>504.558907</td>\n",
              "    </tr>\n",
              "    <tr>\n",
              "      <th>5</th>\n",
              "      <td>2021-11-01</td>\n",
              "      <td>1322</td>\n",
              "      <td>351891.6984</td>\n",
              "      <td>96.071114</td>\n",
              "      <td>300.252633</td>\n",
              "    </tr>\n",
              "    <tr>\n",
              "      <th>6</th>\n",
              "      <td>2021-12-01</td>\n",
              "      <td>1150</td>\n",
              "      <td>351892.3419</td>\n",
              "      <td>96.071421</td>\n",
              "      <td>300.253560</td>\n",
              "    </tr>\n",
              "  </tbody>\n",
              "</table>\n",
              "</div>"
            ],
            "text/plain": [
              "         Mes  Volumen Produccion  ...  Seguridad $ - F  Quimicos $ - F\n",
              "0 2021-06-01                1608  ...       132.443894      410.075665\n",
              "1 2021-07-01                1310  ...        94.592320      295.787602\n",
              "2 2021-08-01                1347  ...        99.324958      310.077207\n",
              "3 2021-09-01                1287  ...        91.583242      286.702067\n",
              "4 2021-10-01                1855  ...       163.736220      504.558907\n",
              "5 2021-11-01                1322  ...        96.071114      300.252633\n",
              "6 2021-12-01                1150  ...        96.071421      300.253560\n",
              "\n",
              "[7 rows x 5 columns]"
            ]
          },
          "metadata": {
            "tags": []
          },
          "execution_count": 29
        }
      ]
    }
  ]
}